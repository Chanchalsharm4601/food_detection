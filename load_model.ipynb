{
 "cells": [
  {
   "cell_type": "code",
   "execution_count": 1,
   "id": "e8bd6d82-e630-4eec-acfd-6348cc1b57b9",
   "metadata": {},
   "outputs": [
    {
     "name": "stdout",
     "output_type": "stream",
     "text": [
      "Defaulting to user installation because normal site-packages is not writeable\n",
      "Requirement already satisfied: nbimporter in c:\\users\\lenovo\\appdata\\roaming\\python\\python310\\site-packages (0.3.4)\n"
     ]
    }
   ],
   "source": [
    "from tensorflow.keras.models import load_model\n",
    "!pip install nbimporter\n",
    "\n",
    "clf = load_model('Image_classification_model')\n"
   ]
  },
  {
   "cell_type": "code",
   "execution_count": 5,
   "id": "56e8710a-62ea-4c3f-a11f-4ac5bd621d2b",
   "metadata": {},
   "outputs": [
    {
     "name": "stdout",
     "output_type": "stream",
     "text": [
      "1/1 [==============================] - 0s 138ms/step\n",
      "Predicted class: fettuccine alfredo\n"
     ]
    }
   ],
   "source": [
    "import nbimporter\n",
    "import food_image_classifier\n",
    "folder_path = 'small_data'\n",
    "class_names = food_image_classifier.get_class_names(folder_path)\n",
    "\n",
    "\n",
    "from tensorflow.keras.preprocessing import image\n",
    "import numpy as np\n",
    "predictions = clf.predict(food_image_classifier.process_image('test_image0.jpg'))\n",
    "\n",
    "predicted_class = np.argmax(predictions, axis=1) \n",
    "predicted_class_index = predicted_class[0]  \n",
    "print(\"Predicted class:\", class_names[predicted_class_index])"
   ]
  },
  {
   "cell_type": "code",
   "execution_count": null,
   "id": "5c1be75f-5e95-4f2e-a637-b67a13425e12",
   "metadata": {},
   "outputs": [],
   "source": []
  }
 ],
 "metadata": {
  "kernelspec": {
   "display_name": "Python 3 (ipykernel)",
   "language": "python",
   "name": "python3"
  },
  "language_info": {
   "codemirror_mode": {
    "name": "ipython",
    "version": 3
   },
   "file_extension": ".py",
   "mimetype": "text/x-python",
   "name": "python",
   "nbconvert_exporter": "python",
   "pygments_lexer": "ipython3",
   "version": "3.10.11"
  }
 },
 "nbformat": 4,
 "nbformat_minor": 5
}
